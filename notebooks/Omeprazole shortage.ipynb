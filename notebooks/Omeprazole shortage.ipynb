{
 "cells": [
  {
   "cell_type": "code",
   "execution_count": 13,
   "id": "3b27dbb2-5860-4f99-8b07-d4b9bd444571",
   "metadata": {},
   "outputs": [],
   "source": [
    "import os # this allows simple navigation of folders in the notebook\n",
    "import pandas as pd # this loads Pandas\n",
    "import numpy as np # This loads NumPy, used to do maths in the notebook\n",
    "from ebmdatalab import bq # this loads the bennett institute bigquery function - probably not needed in this instance "
   ]
  },
  {
   "cell_type": "code",
   "execution_count": 14,
   "id": "85de8cd1-36ba-4bd4-994a-473b147f92bb",
   "metadata": {},
   "outputs": [],
   "source": [
    "importfile = os.path.join(\"..\",\"data\",\"ppi_data.csv.xz\") # creates the importfile for the data\n",
    "#exportfile = os.path.join(\"..\",\"data\",\"ppi_data.csv.xz\") # creates the importfile for the data"
   ]
  },
  {
   "cell_type": "code",
   "execution_count": 15,
   "id": "a74d95cf-21d1-4cc6-b664-77261a535123",
   "metadata": {},
   "outputs": [],
   "source": [
    "ppi_df = pd.read_csv(importfile) # opens the csv in the zip file, and loads into into a dataframe called \"ppi_df\""
   ]
  },
  {
   "cell_type": "code",
   "execution_count": 16,
   "id": "3f53e0c5-f61e-485d-bbc6-89a77ba914a9",
   "metadata": {},
   "outputs": [
    {
     "data": {
      "text/html": [
       "<div>\n",
       "<style scoped>\n",
       "    .dataframe tbody tr th:only-of-type {\n",
       "        vertical-align: middle;\n",
       "    }\n",
       "\n",
       "    .dataframe tbody tr th {\n",
       "        vertical-align: top;\n",
       "    }\n",
       "\n",
       "    .dataframe thead th {\n",
       "        text-align: right;\n",
       "    }\n",
       "</style>\n",
       "<table border=\"1\" class=\"dataframe\">\n",
       "  <thead>\n",
       "    <tr style=\"text-align: right;\">\n",
       "      <th></th>\n",
       "      <th>month</th>\n",
       "      <th>practice</th>\n",
       "      <th>bnf_code</th>\n",
       "      <th>bnf_name</th>\n",
       "      <th>items</th>\n",
       "      <th>actual_cost</th>\n",
       "      <th>quantity</th>\n",
       "    </tr>\n",
       "  </thead>\n",
       "  <tbody>\n",
       "    <tr>\n",
       "      <th>0</th>\n",
       "      <td>2023-08-01 00:00:00 UTC</td>\n",
       "      <td>A81002</td>\n",
       "      <td>0103050L0AAAGAG</td>\n",
       "      <td>Lansoprazole 15mg orodispersible tablets</td>\n",
       "      <td>24</td>\n",
       "      <td>78.52231</td>\n",
       "      <td>812</td>\n",
       "    </tr>\n",
       "    <tr>\n",
       "      <th>1</th>\n",
       "      <td>2023-08-01 00:00:00 UTC</td>\n",
       "      <td>A81007</td>\n",
       "      <td>0103050P0AAAAAA</td>\n",
       "      <td>Omeprazole 20mg gastro-resistant capsules</td>\n",
       "      <td>415</td>\n",
       "      <td>1680.22668</td>\n",
       "      <td>17598</td>\n",
       "    </tr>\n",
       "    <tr>\n",
       "      <th>2</th>\n",
       "      <td>2023-08-01 00:00:00 UTC</td>\n",
       "      <td>A81007</td>\n",
       "      <td>0103050L0AAABAB</td>\n",
       "      <td>Lansoprazole 15mg gastro-resistant capsules</td>\n",
       "      <td>345</td>\n",
       "      <td>391.11221</td>\n",
       "      <td>12349</td>\n",
       "    </tr>\n",
       "    <tr>\n",
       "      <th>3</th>\n",
       "      <td>2023-08-01 00:00:00 UTC</td>\n",
       "      <td>A81011</td>\n",
       "      <td>0103050L0AAAAAA</td>\n",
       "      <td>Lansoprazole 30mg gastro-resistant capsules</td>\n",
       "      <td>685</td>\n",
       "      <td>844.09149</td>\n",
       "      <td>20782</td>\n",
       "    </tr>\n",
       "    <tr>\n",
       "      <th>4</th>\n",
       "      <td>2023-08-01 00:00:00 UTC</td>\n",
       "      <td>A81011</td>\n",
       "      <td>0103010H0AAABAB</td>\n",
       "      <td>Famotidine 40mg tablets</td>\n",
       "      <td>22</td>\n",
       "      <td>712.78739</td>\n",
       "      <td>704</td>\n",
       "    </tr>\n",
       "  </tbody>\n",
       "</table>\n",
       "</div>"
      ],
      "text/plain": [
       "                     month practice         bnf_code  \\\n",
       "0  2023-08-01 00:00:00 UTC   A81002  0103050L0AAAGAG   \n",
       "1  2023-08-01 00:00:00 UTC   A81007  0103050P0AAAAAA   \n",
       "2  2023-08-01 00:00:00 UTC   A81007  0103050L0AAABAB   \n",
       "3  2023-08-01 00:00:00 UTC   A81011  0103050L0AAAAAA   \n",
       "4  2023-08-01 00:00:00 UTC   A81011  0103010H0AAABAB   \n",
       "\n",
       "                                      bnf_name  items  actual_cost  quantity  \n",
       "0     Lansoprazole 15mg orodispersible tablets     24     78.52231       812  \n",
       "1    Omeprazole 20mg gastro-resistant capsules    415   1680.22668     17598  \n",
       "2  Lansoprazole 15mg gastro-resistant capsules    345    391.11221     12349  \n",
       "3  Lansoprazole 30mg gastro-resistant capsules    685    844.09149     20782  \n",
       "4                      Famotidine 40mg tablets     22    712.78739       704  "
      ]
     },
     "execution_count": 16,
     "metadata": {},
     "output_type": "execute_result"
    }
   ],
   "source": [
    "ppi_df.head() # shows a sample of the first 5 rows of data"
   ]
  },
  {
   "cell_type": "code",
   "execution_count": 12,
   "id": "f2aa063f-5f28-41d9-9859-1fa08d10c07c",
   "metadata": {},
   "outputs": [],
   "source": []
  },
  {
   "cell_type": "code",
   "execution_count": null,
   "id": "3ef56e06-9e5e-4d4b-996c-470da5979796",
   "metadata": {},
   "outputs": [],
   "source": []
  }
 ],
 "metadata": {
  "kernelspec": {
   "display_name": "Python 3 (ipykernel)",
   "language": "python",
   "name": "python3"
  },
  "language_info": {
   "codemirror_mode": {
    "name": "ipython",
    "version": 3
   },
   "file_extension": ".py",
   "mimetype": "text/x-python",
   "name": "python",
   "nbconvert_exporter": "python",
   "pygments_lexer": "ipython3",
   "version": "3.12.4"
  }
 },
 "nbformat": 4,
 "nbformat_minor": 5
}
