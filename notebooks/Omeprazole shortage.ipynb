{
 "cells": [
  {
   "cell_type": "markdown",
   "id": "b52095dc-5b97-413a-9e0b-0ba6fc020b7f",
   "metadata": {},
   "source": [
    "### GI data"
   ]
  },
  {
   "cell_type": "code",
   "execution_count": 1,
   "id": "1b45051c-dae4-41d5-a941-55466c61df64",
   "metadata": {},
   "outputs": [],
   "source": [
    "import os # this allows simple navigation of folders in the notebook\n",
    "import pandas as pd # this loads Pandas\n",
    "import numpy as np # This loads NumPy, used to do maths in the notebook\n",
    "from ebmdatalab import bq # this loads the bennett institute bigquery function\n",
    "import glob"
   ]
  },
  {
   "cell_type": "markdown",
   "id": "fb2ee8e7-43dc-4cba-a718-5fc5d94dcbc3",
   "metadata": {},
   "source": [
    "#### Load datasets"
   ]
  },
  {
   "cell_type": "markdown",
   "id": "3d91d919-8ab9-41e5-8f09-c6e8a5048d54",
   "metadata": {},
   "source": [
    "- gi_df: prescribing data, for 0101 and 0103 of the BNF, from 2019-01 to 2024-05\n",
    "- bnf_df: hierarchical data for legacy bnf codes and names\n",
    "- practice_df: practice info, including setting code (4=GP practice)\n",
    "- statistics_df: practice list sizes per month\n",
    "- ccg_df: CCG/SICBL information"
   ]
  },
  {
   "cell_type": "code",
   "execution_count": 2,
   "id": "751d387c-d2a3-4afd-ad96-3b17ab826299",
   "metadata": {},
   "outputs": [],
   "source": [
    "# Load prescribing data from compressed csv chunks\n",
    "file_pattern = os.path.join(\"..\",\"data\",\"omep_df_chunk_*.csv.gz\")\n",
    "file_names = glob.glob(file_pattern) # List all files matching the pattern\n",
    "gi_df = pd.concat([pd.read_csv(file, compression='gzip') for file in file_names], ignore_index=True) # Load each compressed CSV file into a DataFrame and concatenate them\n",
    "bnf_df = pd.read_csv(os.path.join(\"..\",\"data\",\"bnf_df.csv\"))\n",
    "practices_df = pd.read_csv(os.path.join(\"..\",\"data\",\"practices_df.csv\"))\n",
    "statistics_df = pd.read_csv(os.path.join(\"..\",\"data\",\"statistics_df.csv\"))\n",
    "ccg_df = pd.read_csv(os.path.join(\"..\",\"data\",\"ccg_df.csv\"))"
   ]
  },
  {
   "cell_type": "code",
   "execution_count": null,
   "id": "3eeffc92-ee67-4bf4-bc68-872802c3e9fe",
   "metadata": {},
   "outputs": [],
   "source": []
  }
 ],
 "metadata": {
  "kernelspec": {
   "display_name": "Python 3 (ipykernel)",
   "language": "python",
   "name": "python3"
  },
  "language_info": {
   "codemirror_mode": {
    "name": "ipython",
    "version": 3
   },
   "file_extension": ".py",
   "mimetype": "text/x-python",
   "name": "python",
   "nbconvert_exporter": "python",
   "pygments_lexer": "ipython3",
   "version": "3.12.4"
  }
 },
 "nbformat": 4,
 "nbformat_minor": 5
}
